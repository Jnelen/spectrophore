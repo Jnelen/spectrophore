{
 "cells": [
  {
   "cell_type": "markdown",
   "metadata": {},
   "source": [
    "## Spectrophores: a short tutorial"
   ]
  },
  {
   "cell_type": "markdown",
   "metadata": {},
   "source": [
    "### Dependencies"
   ]
  },
  {
   "cell_type": "markdown",
   "metadata": {},
   "source": [
    "The Python-implementation of spectrophores requires the following tools to\n",
    "be installed:\n",
    "\n",
    "      * numpy <http://www.numpy.org>\n",
    "      * scipy <http://www.scipy.org>\n",
    "      * rdkit <http://www.rdkit.org>\n",
    "      * boost <http://www.boost.org>\n",
    "\n",
    "Please take a look at the websites addresses above to get more information about how to properly install these libraries. \n",
    "\n",
    "Under Ubuntu these libraries can be installed quite easily:\n",
    "\n",
    "> sudo apt-get install python-numpy python-scipy python-matplotlib ipython ipython-notebook python-pandas python-sympy python-nose\n",
    "\n",
    "> sudo apt-get install libboost-all-dev\n",
    "\n",
    "> sudo apt-get install python-rdkit librdkit1 rdkit-data"
   ]
  },
  {
   "cell_type": "markdown",
   "metadata": {},
   "source": [
    "### Installing the spectrophore library"
   ]
  },
  {
   "cell_type": "markdown",
   "metadata": {},
   "source": [
    "Step 1 - download the spectrophore code from https://github.com/UAMCAntwerpen/spectrophores, and uncompress the tar-file that is contained in the 'dist/' folder.\n",
    "\n",
    "Step 2 - untar the downloaded file and chdir into the created directory:\n",
    "\n",
    "    > tar xvf spectrophore-1.0.1.tar.gz\n",
    "    > cd spectrophore-1.0.1\n",
    "\n",
    "Step 3 - install:\n",
    "\n",
    "    > sudo python setup.py install\n",
    "\n",
    "The installation process installs the following:\n",
    "\n",
    "  - module 'spectrophore.py' is installed in the default third-party modules directory\n",
    "    (for example '/usr/local/lib/python2.7/dist-packages/');\n",
    "\n",
    "  - script 'sdf2spectrophore.py' is installed in the default third-party script directory\n",
    "    (for example '/usr/local/bin/')\n",
    "\n",
    "Now, you already can use the spectrophores in your python code by importing spectrophore library as following: "
   ]
  },
  {
   "cell_type": "code",
   "execution_count": 2,
   "metadata": {
    "collapsed": false
   },
   "outputs": [],
   "source": [
    "from spectrophores.spectrophore import spectrophoreCalculator"
   ]
  },
  {
   "cell_type": "markdown",
   "metadata": {},
   "source": [
    "### Importing RDKit in your python script"
   ]
  },
  {
   "cell_type": "code",
   "execution_count": 6,
   "metadata": {
    "collapsed": false
   },
   "outputs": [],
   "source": [
    "from __future__ import print_function\n",
    "from rdkit import Chem\n",
    "from rdkit.Chem import AllChem"
   ]
  },
  {
   "cell_type": "markdown",
   "metadata": {},
   "source": [
    "### Importing the spectrophore library in your python script"
   ]
  },
  {
   "cell_type": "code",
   "execution_count": 7,
   "metadata": {
    "collapsed": false
   },
   "outputs": [],
   "source": [
    "from spectrophores.spectrophore import spectrophoreCalculator"
   ]
  },
  {
   "cell_type": "markdown",
   "metadata": {},
   "source": [
    "## Reading molecules with RDKit and calculating spectrophores"
   ]
  },
  {
   "cell_type": "markdown",
   "metadata": {},
   "source": [
    "In RDKit is possible to load molecules using several file formats, e.g. smiles, smarts, mol2, sdf. By default RDKit doesn't consider hydrogens when loading a molecule, hence it is important to add these later as the calculation of spectrophores relies on the presence of these hydrogens. "
   ]
  },
  {
   "cell_type": "markdown",
   "metadata": {},
   "source": [
    "### Loading molecules from a smiles string"
   ]
  },
  {
   "cell_type": "code",
   "execution_count": 8,
   "metadata": {
    "collapsed": false
   },
   "outputs": [
    {
     "data": {
      "text/plain": [
       "0"
      ]
     },
     "execution_count": 8,
     "metadata": {},
     "output_type": "execute_result"
    }
   ],
   "source": [
    "smiles = 'F[C@@](I)(Br)Cl'\n",
    "mol = Chem.MolFromSmiles(smiles)\n",
    "mol = Chem.AddHs(mol)\n",
    "AllChem.EmbedMolecule(mol) "
   ]
  },
  {
   "cell_type": "markdown",
   "metadata": {},
   "source": [
    "### Calculating a spectrophore"
   ]
  },
  {
   "cell_type": "code",
   "execution_count": 9,
   "metadata": {
    "collapsed": false
   },
   "outputs": [
    {
     "data": {
      "text/plain": [
       "array([  1.92190861,   2.58322483,   1.50779961,   4.47128574,\n",
       "         5.49701023,   6.98774323,   4.25212321,   3.95179533,\n",
       "         5.93661616,   8.23951424,   9.16096027,   5.32191626,\n",
       "         2.04999628,   2.52032422,   6.84607253,   9.52229459,\n",
       "        11.09511133,  13.52428646,   9.42900067,  13.15011982,\n",
       "        14.28082103,  18.63760512,  21.34117248,  11.49421108,\n",
       "         5.21088837,   3.72660843,   2.9043753 ,   6.03657827,\n",
       "        10.51868127,   8.18885522,   6.28237231,   6.97597263,\n",
       "         8.65288904,  12.48063001,  13.43179086,   9.62543559,\n",
       "         0.90592641,   0.98933782,   2.97022263,   3.7140072 ,\n",
       "         4.0505374 ,   4.2411592 ,   2.80612091,   4.0525092 ,\n",
       "         4.34418157,   5.74555681,   6.78125949,   4.25966378])"
      ]
     },
     "execution_count": 9,
     "metadata": {},
     "output_type": "execute_result"
    }
   ],
   "source": [
    "calculator = spectrophoreCalculator()\n",
    "calculator.calculate(mol)"
   ]
  },
  {
   "cell_type": "markdown",
   "metadata": {},
   "source": [
    "### Working with multiple conformations"
   ]
  },
  {
   "cell_type": "markdown",
   "metadata": {},
   "source": [
    "In case you are working with multiple conformations per molecule it is necessary to specify which conformations to calculate a spectrophore from. This is possible by passing the number of the desired conformation to the \"calculate\" function:"
   ]
  },
  {
   "cell_type": "code",
   "execution_count": 11,
   "metadata": {
    "collapsed": false
   },
   "outputs": [
    {
     "name": "stdout",
     "output_type": "stream",
     "text": [
      "[   1.69378628    2.42846555    2.19273134    2.53188056    3.40216807\n",
      "    3.62283092    2.50947917    2.74728235    3.18297814    4.26050919\n",
      "    4.21743581    3.37794631    6.71855351   10.16885263   24.93965077\n",
      "   29.5694384    20.34367691   27.74294369   18.14381424   36.99914479\n",
      "   38.00127173   32.29358383   35.6426856    25.92318309   82.93894655\n",
      "  126.43857279  121.25444546  153.20748262  142.59728171  153.47831833\n",
      "   86.93458949  139.95810623  143.13159101  162.43633648  160.15619057\n",
      "  183.21466287    1.27107123    2.1475741     3.28121841    3.31984206\n",
      "    2.45392636    1.95668223    1.25846562    3.13711803    3.30722482\n",
      "    2.93271979    2.68167904    3.00389807]\n",
      "[   2.32066862    2.11072381    2.29140217    2.50708484    2.71491211\n",
      "    2.884345      2.23274506    2.43039832    3.23474992    3.77265728\n",
      "    3.30764713    3.02647622    6.86680711    9.36610107   21.65775546\n",
      "   25.89405361   23.06544709   23.58429952   20.90896344   29.45401655\n",
      "   31.65911819   34.32801172   36.4092929    22.63729709   75.08520552\n",
      "  105.08413949   92.97566941  144.63413853  158.19276619  161.98562486\n",
      "  101.96861834  127.19412065  156.5895497   192.22771594  197.11121631\n",
      "  176.98226957    1.1071139     1.71253698    2.67756909    2.72984547\n",
      "    2.88809576    1.85147487    1.45311247    2.83184324    2.70039133\n",
      "    2.68368734    3.25983045    2.81316236]\n",
      "[   2.1551963     2.30434924    2.41540687    2.45556167    2.65513778\n",
      "    3.04871206    2.32703544    2.46264767    2.99717914    3.33812106\n",
      "    3.33906562    2.53243406    7.35465145   10.41192832   23.66192699\n",
      "   29.09294179   23.71916926   29.71461296   19.91701228   34.6089927\n",
      "   35.60040756   33.09928647   36.71361129   26.7734846    85.51649088\n",
      "  123.70390979  115.56718683  155.06674577  160.09013409  163.29117052\n",
      "   96.41989863  148.21038175  158.23856223  184.78854364  187.06594615\n",
      "  187.17468158    1.17436379    2.15265144    2.96313964    3.13810665\n",
      "    2.95324376    2.00408757    1.36180018    2.95410459    3.14661927\n",
      "    2.85957691    2.91527524    3.10997394]\n",
      "[   2.16875155    2.07569161    1.77560757    3.04489727    3.44146991\n",
      "    3.77449696    2.66039501    2.50965769    3.591256      4.55556875\n",
      "    4.51656601    3.21343888    6.33570496    9.01683803   20.82312922\n",
      "   25.05191026   24.52102505   25.08428643   20.68166521   32.68335305\n",
      "   31.16245406   34.85910616   35.89659604   24.17895925   73.26955844\n",
      "  104.2025226    93.26778998  145.57808606  156.38270373  161.56444836\n",
      "   98.46598107  129.44910274  156.19575939  187.53244395  200.42920451\n",
      "  178.85839973    1.04727995    1.72103161    2.7623528     2.88866149\n",
      "    3.06728943    1.91375584    1.4958647     2.86776627    2.90788342\n",
      "    2.69950802    3.25487878    2.81492287]\n",
      "[   2.56351565    2.36207863    2.7796885     2.76075528    2.48673232\n",
      "    2.64265314    2.13427861    2.79532126    2.88157301    3.14325783\n",
      "    2.94137484    2.99589324    7.58348356   11.36271146   26.99580404\n",
      "   28.3035074    23.39890078   26.49334576   19.29612192   37.05734516\n",
      "   38.93983625   33.96959362   36.38528891   28.97074911   83.85498541\n",
      "  123.03719105  126.6209823   158.40919626  139.31483829  159.40570415\n",
      "   85.64488666  143.26423553  152.18167673  160.36107049  165.67882952\n",
      "  180.51884826    1.49223219    2.1847752     3.58601485    3.52861403\n",
      "    2.8943096     2.00693823    1.20697953    3.35709293    3.35966598\n",
      "    2.41033776    2.42613188    3.18244255]\n",
      "[   2.679488      2.3735085     2.73293424    2.77727225    2.36446978\n",
      "    2.77710581    1.91909468    2.84507412    3.2074299     2.96442029\n",
      "    2.58442185    2.42086115    5.99655258    7.98383525   20.48026395\n",
      "   22.83350487   25.39103905   29.62709097   21.93488766   32.50557534\n",
      "   33.74084214   36.5944674    41.05090425   24.43984791   77.49279897\n",
      "  106.15283253  109.13164316  141.19983247  149.87963747  152.27368642\n",
      "   90.0998944   142.05590192  154.55157199  176.0061363   175.49720082\n",
      "  165.72444219    0.97187264    1.7087602     2.49357374    2.53742926\n",
      "    2.79251343    1.87211316    1.42895484    2.6389851     2.97423925\n",
      "    2.42935179    2.98923801    2.35340259]\n",
      "[   2.73530166    2.56145257    2.82250286    2.62947618    2.40514013\n",
      "    2.42921972    1.46629934    2.63281692    3.16807551    2.7936209\n",
      "    2.04120871    2.83144475    6.20685857    7.59841534   18.34589465\n",
      "   21.81671814   23.59860286   26.10559148   20.73705422   31.53329541\n",
      "   32.64729669   34.92116049   36.67390768   25.08653648   72.35655478\n",
      "  100.39140348   98.50316922  118.17191428  137.5206514   135.07239824\n",
      "   84.50040943  128.70377913  134.40176195  167.10756031  159.17139234\n",
      "  145.75807912    1.04722907    1.50900159    2.41601142    2.57600449\n",
      "    2.27054464    1.52895344    1.08987034    2.59416282    2.40003565\n",
      "    2.01670286    2.32648423    2.39868033]\n",
      "[   2.23971507    2.2722327     1.9826262     3.57188571    4.29449485\n",
      "    4.09451777    3.17546187    3.02736066    4.14744782    5.36973766\n",
      "    5.17855981    3.63998891    7.14425508   11.10445976   28.71311725\n",
      "   29.49895329   19.86876709   23.78043066   16.36208605   35.39973391\n",
      "   37.60372145   29.03738098   31.52165615   24.08765771   82.72167487\n",
      "  124.03505805  124.01650758  179.08633729  153.31246696  178.83765122\n",
      "  100.24575113  141.26957327  152.95370253  178.51111358  193.28520084\n",
      "  206.79265554    1.29882249    2.05283218    3.42340178    4.04815423\n",
      "    2.55601771    1.85523659    1.13362172    3.61081455    3.72866088\n",
      "    2.51717637    2.42825507    3.08838411]\n",
      "[   1.25845213    1.82447944    1.80637922    3.44166544    4.58796653\n",
      "    4.48402792    3.55998535    2.85761007    3.41846022    4.86857309\n",
      "    5.5991611     3.95796961    7.02015662    9.91589022   32.22597287\n",
      "   33.56279442   14.69621059   20.85325931   13.0760502    41.33513713\n",
      "   37.95366439   21.65737583   25.17723831   31.03779184   71.34467604\n",
      "  118.69446934  124.49828068  171.73915215  130.79562051  168.308708\n",
      "   97.0422391   137.8624864   144.46775826  160.09754702  172.69704143\n",
      "  187.92795149    1.55518897    2.0719036     4.00865823    4.09133481\n",
      "    1.87856432    1.6018258     0.64351869    4.09841847    3.45017198\n",
      "    1.83144338    1.40434218    3.38317314]\n",
      "[   2.36937904    2.05422369    2.43697792    2.63923092    2.33101311\n",
      "    2.45094215    2.23371446    2.45548075    2.75561091    2.9716504\n",
      "    2.70170084    2.34589971    7.30201913   11.23901723   28.38918985\n",
      "   31.44329716   20.61784021   26.19428667   15.19338946   35.569694\n",
      "   38.83288382   25.04557748   31.8239294    29.54871652   72.31204823\n",
      "  116.21525505  120.13108786  173.92221691  115.07724504  177.31967932\n",
      "  102.44227549  123.1985511   153.32546714  174.94818502  198.62618701\n",
      "  183.76807504    1.38009853    2.20757184    3.46009155    3.72310516\n",
      "    1.94778722    1.7879246     1.19737972    3.24702033    3.54021246\n",
      "    2.80115489    2.48552696    3.40814978]\n"
     ]
    }
   ],
   "source": [
    "from rdkit import Chem\n",
    "from rdkit.Chem import AllChem\n",
    "smiles = 'CC(CCC1=CC=CC=C1Cl)N1CCOCC1'\n",
    "mol = Chem.MolFromSmiles(smiles)\n",
    "mol = Chem.AddHs(mol)\n",
    "cids = AllChem.EmbedMultipleConfs(mol, numConfs = 10)\n",
    "\n",
    "from spectrophores.spectrophore import spectrophoreCalculator\n",
    "calculator = spectrophoreCalculator()\n",
    "\n",
    "for cid in cids: _ = AllChem.MMFFOptimizeMolecule(mol, confId=cid)\n",
    "for cid in cids:   print(calculator.calculate(mol, cid))"
   ]
  },
  {
   "cell_type": "markdown",
   "metadata": {},
   "source": [
    "Each conformation generates a slightly different spectrophore:"
   ]
  },
  {
   "cell_type": "code",
   "execution_count": 12,
   "metadata": {
    "collapsed": false
   },
   "outputs": [
    {
     "data": {
      "text/plain": [
       "<matplotlib.text.Text at 0x7f867350b150>"
      ]
     },
     "execution_count": 12,
     "metadata": {},
     "output_type": "execute_result"
    },
    {
     "data": {
      "image/png": "[encoded data removed]",
      "text/plain": [
       "<matplotlib.figure.Figure at 0x7f86737dc390>"
      ]
     },
     "metadata": {},
     "output_type": "display_data"
    }
   ],
   "source": [
    "import matplotlib.pyplot as plt\n",
    "%matplotlib inline\n",
    "\n",
    "spectrophores = []\n",
    "for cid in cids: spectrophores.append( calculator.calculate(mol, cid))\n",
    "\n",
    "plt.plot(range(1,49), spectrophores[0], label='Conf 1')\n",
    "plt.plot(range(1,49), spectrophores[1], label='Conf 2')\n",
    "plt.plot(range(1,49), spectrophores[2], label='Conf 3')\n",
    "plt.legend(loc='upper left')\n",
    "plt.suptitle(\"Spectrophores calculated for three molecular conformations\")"
   ]
  },
  {
   "cell_type": "markdown",
   "metadata": {},
   "source": [
    "### Default options"
   ]
  },
  {
   "cell_type": "markdown",
   "metadata": {},
   "source": [
    "#### Normalization:\n",
    "\n",
    "Specifies the kind of normalization that should be performed. Valid values are: none  (default), mean, std, all\n",
    "\n",
    "#### Stereo:\n",
    "\n",
    "Specifies the kind of cages that should be used. Valid values are: none (default), unique, mirror, all\n",
    "\n",
    "#### Accuracy:\n",
    "\n",
    "This corresponds to the rotation stepsize. Valid values are: 1, 2, 5, 10, 15, 20 (default), 30, 36, 45, 60\n",
    "\n",
    "#### Resolution:\n",
    "\n",
    "This cooresponds to the minimum distance between the surrounding cage and molecule. Defaults to 3 Angstrons. This value should be larger than 0."
   ]
  },
  {
   "cell_type": "markdown",
   "metadata": {},
   "source": [
    "### Examples"
   ]
  },
  {
   "cell_type": "code",
   "execution_count": 13,
   "metadata": {
    "collapsed": false
   },
   "outputs": [
    {
     "data": {
      "text/plain": [
       "array([   1.69378628,    2.42846555,    2.19273134,    2.53188056,\n",
       "          3.40216807,    3.62283092,    2.50947917,    2.74728235,\n",
       "          3.18297814,    4.26050919,    4.21743581,    3.37794631,\n",
       "          6.71855351,   10.16885263,   24.93965077,   29.5694384 ,\n",
       "         20.34367691,   27.74294369,   18.14381424,   36.99914479,\n",
       "         38.00127173,   32.29358383,   35.6426856 ,   25.92318309,\n",
       "         82.93894655,  126.43857279,  121.25444546,  153.20748262,\n",
       "        142.59728171,  153.47831833,   86.93458949,  139.95810623,\n",
       "        143.13159101,  162.43633648,  160.15619057,  183.21466287,\n",
       "          1.27107123,    2.1475741 ,    3.28121841,    3.31984206,\n",
       "          2.45392636,    1.95668223,    1.25846562,    3.13711803,\n",
       "          3.30722482,    2.93271979,    2.68167904,    3.00389807])"
      ]
     },
     "execution_count": 13,
     "metadata": {},
     "output_type": "execute_result"
    }
   ],
   "source": [
    "# Using default options\n",
    "calculator = spectrophoreCalculator(resolution=3, accuracy=20, stereo='none', normalization='none') ## default\n",
    "calculator.calculate(mol)"
   ]
  },
  {
   "cell_type": "code",
   "execution_count": 14,
   "metadata": {
    "collapsed": false
   },
   "outputs": [
    {
     "data": {
      "text/plain": [
       "array([-2.10601819, -0.95897094, -0.79508297, -0.8952884 , -0.11072353,\n",
       "       -0.6382436 , -0.76314448,  0.08117981,  0.21030873,  0.40274669,\n",
       "       -0.00487328,  0.96035211,  1.38784616,  0.54352397, -0.54650871,\n",
       "        1.03697836,  0.26418437,  1.75746044, -2.78664569, -0.97638483,\n",
       "       -0.65924939, -0.8742079 , -0.39948054, -0.87276164, -1.10971029,\n",
       "       -0.19325362,  0.57861392,  0.45141051,  0.88445531,  0.73791569,\n",
       "        1.67160706,  0.66977743,  0.43263338,  0.43168822,  0.6832943 ,\n",
       "        1.50457152, -2.73804849,  0.24330047, -0.93968553, -0.47702825,\n",
       "       -0.15991221, -0.65429954, -1.1360976 , -0.04277306,  0.10700579,\n",
       "        0.64847433, -0.40324744,  0.49487761,  1.13218788, -0.48559613,\n",
       "        0.56299333,  1.04670688,  0.96725186,  1.63599038, -2.80980031,\n",
       "        0.31285342, -0.92266831, -0.35409379, -0.17692942, -0.50720829,\n",
       "       -1.10344783, -0.12239989, -0.19083668,  0.6957315 , -0.55036565,\n",
       "        0.84932822,  0.97057687, -0.21886717,  0.7812125 ,  0.97859116,\n",
       "        0.88352121,  1.68270217, -2.45913103, -0.86429854, -0.45997232,\n",
       "       -0.1487095 ,  0.01202473, -1.10358833, -1.12994298, -0.6421783 ,\n",
       "       -0.27668793,  0.35405284,  0.57668276,  0.77697394,  1.84264508,\n",
       "        0.80905993,  0.18727989,  1.19964807,  0.80864694,  0.92573463,\n",
       "       -2.51849797, -1.14487833, -0.52359439, -0.2602116 ,  0.15906627,\n",
       "       -1.22429633, -1.04710725, -0.64390988, -0.37816534,  0.7645093 ,\n",
       "        0.47886706,  0.87194764,  1.4372229 ,  0.74255555,  0.1828861 ,\n",
       "        0.96176677,  0.68563348,  1.04796615, -2.40535716,  1.26047114,\n",
       "        0.0392017 , -0.62801595, -0.2377125 , -0.97248578, -0.89047434,\n",
       "        0.49402387, -0.49971283,  0.33382698,  0.03841448,  1.35504112,\n",
       "        2.31914964, -0.35882262, -0.59852262,  0.44992111, -0.14668652,\n",
       "        1.23564049, -2.39185291,  1.61228988, -0.17549207, -0.76834239,\n",
       "       -0.45412828, -0.96209177, -1.02627432,  0.91895438, -0.80622113,\n",
       "       -0.09229918, -0.48216201,  0.97274882,  1.40618148,  0.13031003,\n",
       "        0.37467259,  0.31477678,  0.067836  ,  0.5731939 ])"
      ]
     },
     "execution_count": 14,
     "metadata": {},
     "output_type": "execute_result"
    }
   ],
   "source": [
    "calculator = spectrophoreCalculator(resolution=3, accuracy=30, stereo='all', normalization='all') ## switching options\n",
    "calculator.calculate(mol)"
   ]
  },
  {
   "cell_type": "raw",
   "metadata": {},
   "source": []
  }
 ],
 "metadata": {
  "kernelspec": {
   "display_name": "Python 2",
   "language": "python",
   "name": "python2"
  },
  "language_info": {
   "codemirror_mode": {
    "name": "ipython",
    "version": 2
   },
   "file_extension": ".py",
   "mimetype": "text/x-python",
   "name": "python",
   "nbconvert_exporter": "python",
   "pygments_lexer": "ipython2",
   "version": "2.7.10"
  },
  "widgets": {
   "state": {},
   "version": "1.1.2"
  }
 },
 "nbformat": 4,
 "nbformat_minor": 0
}
